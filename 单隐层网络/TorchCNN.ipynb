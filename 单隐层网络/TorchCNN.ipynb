{
 "cells": [
  {
   "cell_type": "code",
   "execution_count": 1,
   "id": "d05e8f50",
   "metadata": {
    "ExecuteTime": {
     "end_time": "2023-09-20T06:44:52.047542Z",
     "start_time": "2023-09-20T06:44:52.031429Z"
    }
   },
   "outputs": [
    {
     "name": "stdout",
     "output_type": "stream",
     "text": [
      "device:  cuda:0\n",
      "device:  cuda:0\n"
     ]
    }
   ],
   "source": [
    "import torch\n",
    "from datareader import *\n",
    "from torch import nn\n",
    "device = torch.device(\"cuda:0\" if torch.cuda.is_available() else \"cpu\")\n",
    "print('device: ', device)\n",
    "\n",
    "\n",
    "def cross_entrophy(yhat, y, label_smooth=0.1):\n",
    "    # yhat是二维向量，第一个维度是batch， y是单维度的labels\n",
    "    # 有待进一步测试\n",
    "    real_y = torch.zeros(yhat.shape, device=device)\n",
    "    real_y += label_smooth/yhat.shape[1]   # 应该能广播吧\n",
    "    real_y[range(len(yhat)), y] += 1 - label_smooth\n",
    "    loss = -torch.mul(real_y, torch.log(yhat))\n",
    "    #除以batchsize\n",
    "    return loss.sum(1, keepdim=True) / len(y)\n",
    "\n",
    "def accuracy(yhat, y):\n",
    "    # 计算正确的***数量***\n",
    "    if len(yhat.shape) > 1 and yhat.shape[1] > 1:\n",
    "        yhat = yhat.argmax(axis=1)\n",
    "    cmp = yhat.type(y.dtype) == y\n",
    "    cmp = cmp.type(y.dtype)\n",
    "    s = cmp.sum()\n",
    "    return float(s)\n",
    "\n",
    "def evaluate_accuracy(net, data_iter, lossfun):\n",
    "    # 三个参数都是function\n",
    "    with torch.no_grad():\n",
    "        if isinstance(net, torch.nn.Module):\n",
    "            net.eval()\n",
    "        metric = [0.0, 0.0]\n",
    "        total_loss = 0\n",
    "        for X, y in data_iter:\n",
    "            X = X.to(device)\n",
    "            y = y.to(device)\n",
    "            yhat = net(X)\n",
    "            metric[0] += accuracy(yhat, y)\n",
    "            total_loss += float(lossfun(yhat, y).sum()) * y.shape[0]\n",
    "            metric[1] += y.shape[0]\n",
    "        # 正确率和平均损失\n",
    "        return metric[0]/metric[1], total_loss/metric[1]\n",
    "\n"
   ]
  },
  {
   "cell_type": "code",
   "execution_count": 2,
   "id": "4cf08a43",
   "metadata": {
    "ExecuteTime": {
     "end_time": "2023-09-20T06:44:55.122173Z",
     "start_time": "2023-09-20T06:44:55.098174Z"
    }
   },
   "outputs": [
    {
     "name": "stdout",
     "output_type": "stream",
     "text": [
      "Sequential(\n",
      "  (0): ReShape()\n",
      "  (1): Conv2d(1, 6, kernel_size=(5, 5), stride=(1, 1), padding=(2, 2))\n",
      "  (2): ReLU()\n",
      "  (3): MaxPool2d(kernel_size=2, stride=2, padding=0, dilation=1, ceil_mode=False)\n",
      "  (4): Conv2d(6, 16, kernel_size=(5, 5), stride=(1, 1))\n",
      "  (5): ReLU()\n",
      "  (6): MaxPool2d(kernel_size=2, stride=2, padding=0, dilation=1, ceil_mode=False)\n",
      "  (7): Flatten(start_dim=1, end_dim=-1)\n",
      "  (8): Linear(in_features=400, out_features=120, bias=True)\n",
      "  (9): ReLU()\n",
      "  (10): Dropout(p=0.5, inplace=False)\n",
      "  (11): Linear(in_features=120, out_features=84, bias=True)\n",
      "  (12): ReLU()\n",
      "  (13): Dropout(p=0.5, inplace=False)\n",
      "  (14): Linear(in_features=84, out_features=10, bias=True)\n",
      ")\n"
     ]
    }
   ],
   "source": [
    "# 定义网络\n",
    "class ReShape(nn.Module):\n",
    "    def forward(self, X):\n",
    "        return X.view(-1, 1, 28, 28)\n",
    "LeNet = torch.nn.Sequential(\n",
    "    ReShape(),\n",
    "    nn.Conv2d(in_channels=1, out_channels=6, kernel_size=5, padding=2, stride=1), nn.ReLU(),\n",
    "    nn.MaxPool2d(kernel_size=2, stride=2),\n",
    "    nn.Conv2d(in_channels=6, out_channels=16, kernel_size=5), nn.ReLU(),\n",
    "    nn.MaxPool2d(kernel_size=2, stride=2), nn.Flatten(),\n",
    "    nn.Linear(16*5*5, 120), nn.ReLU(), nn.Dropout(p=0.5),\n",
    "    nn.Linear(120, 84), nn.ReLU(), nn.Dropout(p=0.5),\n",
    "    nn.Linear(84, 10))\n",
    "#    nn.Softmax(dim=1))  # loss fun包含了softmax\n",
    "\n",
    "'''\n",
    "print(type(LeNet))\n",
    "print(LeNet[3].weight.shape)\n",
    "X = torch.rand(size=(5, 1, 28, 28), dtype=torch.float32)\n",
    "for layer in LeNet:\n",
    "    X = layer(X)\n",
    "    print(f'{layer.__class__.__name__} : ouput shape: {X.shape}')\n",
    "'''\n",
    "\n",
    "\n",
    "print(LeNet)"
   ]
  },
  {
   "cell_type": "code",
   "execution_count": 3,
   "id": "54017cab",
   "metadata": {
    "ExecuteTime": {
     "end_time": "2023-09-20T06:44:57.189029Z",
     "start_time": "2023-09-20T06:44:57.122158Z"
    }
   },
   "outputs": [],
   "source": [
    "# 载入数据\n",
    "train_reader = MNISTReader(1)\n",
    "test_reader = MNISTReader(2)\n"
   ]
  },
  {
   "cell_type": "code",
   "execution_count": 4,
   "id": "d1af08b2",
   "metadata": {},
   "outputs": [
    {
     "name": "stdout",
     "output_type": "stream",
     "text": [
      "training on: cuda:0\n",
      "epoch = 1\n",
      "\t训练集正确率：0.453，训练集平均loss 1.688. 测试集正确率：0.728，测试集平均loss 1.124.\n",
      "epoch = 2\n",
      "\t训练集正确率：0.683，训练集平均loss 1.256. 测试集正确率：0.778，测试集平均loss 1.013.\n",
      "epoch = 3\n",
      "\t训练集正确率：0.739，训练集平均loss 1.161. 测试集正确率：0.803，测试集平均loss 0.958.\n",
      "epoch = 4\n",
      "\t训练集正确率：0.766，训练集平均loss 1.109. 测试集正确率：0.818，测试集平均loss 0.926.\n",
      "epoch = 5\n",
      "\t训练集正确率：0.787，训练集平均loss 1.074. 测试集正确率：0.830，测试集平均loss 0.904.\n",
      "epoch = 6\n",
      "\t训练集正确率：0.799，训练集平均loss 1.048. 测试集正确率：0.832，测试集平均loss 0.894.\n",
      "epoch = 7\n",
      "\t训练集正确率：0.810，训练集平均loss 1.024. 测试集正确率：0.839，测试集平均loss 0.877.\n",
      "epoch = 8\n",
      "\t训练集正确率：0.818，训练集平均loss 1.010. 测试集正确率：0.850，测试集平均loss 0.858.\n",
      "epoch = 9\n",
      "\t训练集正确率：0.826，训练集平均loss 0.993. 测试集正确率：0.849，测试集平均loss 0.851.\n",
      "epoch = 10\n",
      "\t训练集正确率：0.832，训练集平均loss 0.977. 测试集正确率：0.856，测试集平均loss 0.836.\n",
      "epoch = 11\n",
      "\t训练集正确率：0.838，训练集平均loss 0.965. 测试集正确率：0.859，测试集平均loss 0.831.\n",
      "epoch = 12\n",
      "\t训练集正确率：0.842，训练集平均loss 0.956. 测试集正确率：0.862，测试集平均loss 0.820.\n",
      "epoch = 13\n",
      "\t训练集正确率：0.845，训练集平均loss 0.947. 测试集正确率：0.867，测试集平均loss 0.813.\n",
      "epoch = 14\n",
      "\t训练集正确率：0.850，训练集平均loss 0.936. 测试集正确率：0.869，测试集平均loss 0.807.\n",
      "epoch = 15\n",
      "\t训练集正确率：0.853，训练集平均loss 0.928. 测试集正确率：0.871，测试集平均loss 0.802.\n",
      "epoch = 16\n",
      "\t训练集正确率：0.856，训练集平均loss 0.923. 测试集正确率：0.872，测试集平均loss 0.796.\n",
      "epoch = 17\n",
      "\t训练集正确率：0.858，训练集平均loss 0.916. 测试集正确率：0.872，测试集平均loss 0.794.\n",
      "epoch = 18\n",
      "\t训练集正确率：0.863，训练集平均loss 0.907. 测试集正确率：0.875，测试集平均loss 0.790.\n",
      "epoch = 19\n",
      "\t训练集正确率：0.864，训练集平均loss 0.903. 测试集正确率：0.877，测试集平均loss 0.787.\n",
      "epoch = 20\n",
      "\t训练集正确率：0.866，训练集平均loss 0.898. 测试集正确率：0.877，测试集平均loss 0.786.\n",
      "epoch = 21\n",
      "\t训练集正确率：0.869，训练集平均loss 0.893. 测试集正确率：0.879，测试集平均loss 0.781.\n",
      "epoch = 22\n",
      "\t训练集正确率：0.869，训练集平均loss 0.889. 测试集正确率：0.867，测试集平均loss 0.803.\n",
      "epoch = 23\n",
      "\t训练集正确率：0.869，训练集平均loss 0.887. 测试集正确率：0.880，测试集平均loss 0.779.\n",
      "epoch = 24\n",
      "\t训练集正确率：0.872，训练集平均loss 0.879. 测试集正确率：0.881，测试集平均loss 0.772.\n",
      "epoch = 25\n",
      "\t训练集正确率：0.873，训练集平均loss 0.877. 测试集正确率：0.877，测试集平均loss 0.778.\n",
      "epoch = 26\n",
      "\t训练集正确率：0.874，训练集平均loss 0.874. 测试集正确率：0.884，测试集平均loss 0.768.\n",
      "epoch = 27\n",
      "\t训练集正确率：0.877，训练集平均loss 0.868. 测试集正确率：0.883，测试集平均loss 0.769.\n",
      "epoch = 28\n",
      "\t训练集正确率：0.877，训练集平均loss 0.869. 测试集正确率：0.882，测试集平均loss 0.771.\n",
      "epoch = 29\n",
      "\t训练集正确率：0.879，训练集平均loss 0.864. 测试集正确率：0.884，测试集平均loss 0.769.\n",
      "epoch = 30\n",
      "\t训练集正确率：0.880，训练集平均loss 0.861. 测试集正确率：0.888，测试集平均loss 0.759.\n",
      "epoch = 31\n",
      "\t训练集正确率：0.880，训练集平均loss 0.857. 测试集正确率：0.885，测试集平均loss 0.766.\n",
      "epoch = 32\n",
      "\t训练集正确率：0.882，训练集平均loss 0.853. 测试集正确率：0.888，测试集平均loss 0.756.\n",
      "epoch = 33\n",
      "\t训练集正确率：0.884，训练集平均loss 0.851. 测试集正确率：0.889，测试集平均loss 0.755.\n",
      "epoch = 34\n",
      "\t训练集正确率：0.883，训练集平均loss 0.847. 测试集正确率：0.888，测试集平均loss 0.760.\n",
      "epoch = 35\n",
      "\t训练集正确率：0.885，训练集平均loss 0.846. 测试集正确率：0.890，测试集平均loss 0.757.\n",
      "epoch = 36\n",
      "\t训练集正确率：0.885，训练集平均loss 0.843. 测试集正确率：0.890，测试集平均loss 0.751.\n",
      "epoch = 37\n",
      "\t训练集正确率：0.887，训练集平均loss 0.840. 测试集正确率：0.892，测试集平均loss 0.751.\n",
      "epoch = 38\n",
      "\t训练集正确率：0.886，训练集平均loss 0.840. 测试集正确率：0.892，测试集平均loss 0.757.\n",
      "epoch = 39\n",
      "\t训练集正确率：0.888，训练集平均loss 0.837. 测试集正确率：0.889，测试集平均loss 0.751.\n",
      "epoch = 40\n",
      "\t训练集正确率：0.888，训练集平均loss 0.836. 测试集正确率：0.890，测试集平均loss 0.751.\n",
      "epoch = 41\n",
      "\t训练集正确率：0.889，训练集平均loss 0.833. 测试集正确率：0.890，测试集平均loss 0.751.\n",
      "epoch = 42\n",
      "\t训练集正确率：0.889，训练集平均loss 0.831. 测试集正确率：0.888，测试集平均loss 0.754.\n",
      "epoch = 43\n",
      "\t训练集正确率：0.890，训练集平均loss 0.827. 测试集正确率：0.895，测试集平均loss 0.743.\n",
      "epoch = 44\n",
      "\t训练集正确率：0.891，训练集平均loss 0.825. 测试集正确率：0.893，测试集平均loss 0.742.\n",
      "epoch = 45\n",
      "\t训练集正确率：0.890，训练集平均loss 0.824. 测试集正确率：0.896，测试集平均loss 0.742.\n",
      "epoch = 46\n",
      "\t训练集正确率：0.893，训练集平均loss 0.822. 测试集正确率：0.892，测试集平均loss 0.743.\n",
      "epoch = 47\n",
      "\t训练集正确率：0.893，训练集平均loss 0.821. 测试集正确率：0.894，测试集平均loss 0.739.\n",
      "epoch = 48\n",
      "\t训练集正确率：0.894，训练集平均loss 0.819. 测试集正确率：0.892，测试集平均loss 0.739.\n",
      "epoch = 49\n",
      "\t训练集正确率：0.894，训练集平均loss 0.816. 测试集正确率：0.897，测试集平均loss 0.741.\n",
      "epoch = 50\n",
      "\t训练集正确率：0.894，训练集平均loss 0.817. 测试集正确率：0.893，测试集平均loss 0.737.\n",
      "epoch = 51\n",
      "\t训练集正确率：0.896，训练集平均loss 0.815. 测试集正确率：0.897，测试集平均loss 0.736.\n",
      "epoch = 52\n",
      "\t训练集正确率：0.895，训练集平均loss 0.811. 测试集正确率：0.897，测试集平均loss 0.735.\n",
      "epoch = 53\n",
      "\t训练集正确率：0.896，训练集平均loss 0.810. 测试集正确率：0.895，测试集平均loss 0.738.\n",
      "epoch = 54\n",
      "\t训练集正确率：0.897，训练集平均loss 0.809. 测试集正确率：0.897，测试集平均loss 0.731.\n",
      "epoch = 55\n",
      "\t训练集正确率：0.897，训练集平均loss 0.807. 测试集正确率：0.898，测试集平均loss 0.731.\n"
     ]
    }
   ],
   "source": [
    "def train(net, train_reader, test_reader, num_epochs, lr, device):\n",
    "    def init_weight(m):\n",
    "        if type(m) == nn.Linear or type(m) == nn.Conv2d:\n",
    "            nn.init.xavier_uniform_(m.weight)\n",
    "    net.apply(init_weight)\n",
    "    print(f'training on: {device}')\n",
    "    net.to(device)\n",
    "\n",
    "    optimizer = torch.optim.SGD(net.parameters(), lr)\n",
    "    loss = nn.CrossEntropyLoss(label_smoothing=0.1)\n",
    "\n",
    "    res = [] # 训练集梯度，训练集正确率，训练集总数\n",
    "    for epoch in range(num_epochs):\n",
    "        recorder = [0.0, 0.0, 0.0] # 训练集梯度，训练集正确率，训练集总数\n",
    "        net.train()\n",
    "        for X, y in train_reader.dataIter(batch_size):\n",
    "            # timer.start()\n",
    "            optimizer.zero_grad()\n",
    "            X, y = X.to(device), y.to(device)\n",
    "            yhat = net(X)\n",
    "            l = loss(yhat, y)\n",
    "            l.backward()\n",
    "            optimizer.step()\n",
    "            recorder[0] += float(l * X.shape[0]) #说明lossfun里，梯度除以了bachsize\n",
    "            recorder[1] += accuracy(yhat, y)\n",
    "            recorder[2] += X.shape[0]\n",
    "        # 正确率和平均损失\n",
    "        test_accu , test_loss = evaluate_accuracy(net, test_reader.dataIter(batch_size), loss)\n",
    "        print(f'epoch = {epoch+1}')\n",
    "        print(f'\\t训练集正确率：{recorder[1]/recorder[2]:.3f}，训练集平均loss {recorder[0]/recorder[2]:.3f}.', end=' ')\n",
    "        print(f'测试集正确率：{test_accu:.3f}，测试集平均loss {test_loss:.3f}.')\n",
    "        res.append((recorder[1]/recorder[2], recorder[0]/recorder[2], test_accu, test_loss))\n",
    "    return res\n",
    "\n",
    "# 训练超参数\n",
    "lr = 0.1\n",
    "num_epoch = 55\n",
    "batch_size = 500\n",
    "\n",
    "# 正式训练\n",
    "data_l = train(LeNet,\n",
    "      train_reader,\n",
    "      test_reader,\n",
    "      num_epoch,\n",
    "      lr,\n",
    "      device)"
   ]
  },
  {
   "cell_type": "code",
   "execution_count": 5,
   "id": "bc9f4313-5327-476d-b975-125bd7e53c36",
   "metadata": {},
   "outputs": [
    {
     "data": {
      "image/png": "[encoded data removed]",
      "text/plain": [
       "<Figure size 1800x600 with 2 Axes>"
      ]
     },
     "metadata": {},
     "output_type": "display_data"
    }
   ],
   "source": [
    "#绘图\n",
    "#print(data_l)\n",
    "import matplotlib.pyplot as plt\n",
    "\n",
    "epoch_l = [i for i in range(1, num_epoch+1)]\n",
    "y1 = [x[0] for x in data_l]\n",
    "y2 = [x[2] for x in data_l]\n",
    "\n",
    "y3 = [x[1] for x in data_l]\n",
    "y4 = [float(x[3]) for x in data_l]\n",
    "\n",
    "plt.figure(figsize=(18, 6), dpi=100)\n",
    "plt.rc(\"font\", family='MicroSoft YaHei', weight=\"bold\")\n",
    "\n",
    "plt.subplot(1, 2, 1)\n",
    "plt.xlabel('epoch')\n",
    "plt.ylabel('正确率')\n",
    "plt.plot(epoch_l, y1, color='red', linestyle=':', label='train set')\n",
    "plt.plot(epoch_l, y2, color='green', linestyle='-.', label='test set')\n",
    "\n",
    "plt.subplot(1, 2, 2)\n",
    "plt.xlabel('epoch')\n",
    "plt.ylabel('loss')\n",
    "plt.plot(epoch_l, y3, color='red', linestyle=':', label='train set')\n",
    "plt.plot(epoch_l, y4, color='green', linestyle='-.', label='test set')\n",
    "\n",
    "plt.show()\n",
    "\n"
   ]
  },
  {
   "cell_type": "code",
   "execution_count": 6,
   "id": "1539b1f5-1b1d-492a-8061-1cb5b3938eec",
   "metadata": {},
   "outputs": [
    {
     "name": "stdout",
     "output_type": "stream",
     "text": [
      "数字0的正确率86.6%\t最大误报数字为6, 次数为88\n",
      "数字1的正确率97.3%\t最大误报数字为3, 次数为19\n",
      "数字2的正确率82.6%\t最大误报数字为4, 次数为80\n",
      "数字3的正确率90.6%\t最大误报数字为6, 次数为36\n",
      "数字4的正确率85.5%\t最大误报数字为6, 次数为65\n",
      "数字5的正确率97.4%\t最大误报数字为7, 次数为18\n",
      "数字6的正确率67.9%\t最大误报数字为0, 次数为129\n",
      "数字7的正确率96.3%\t最大误报数字为9, 次数为23\n",
      "数字8的正确率97.9%\t最大误报数字为4, 次数为5\n",
      "数字9的正确率95.9%\t最大误报数字为7, 次数为35\n"
     ]
    }
   ],
   "source": [
    "# 统计分标签的正确率\n",
    "if isinstance(LeNet, torch.nn.Module):\n",
    "    LeNet.eval()\n",
    "metric = [[0 for i in range(10)] for i in range(10)]  # 行表示正确的标签，列表示错误的标签\n",
    "false_label = []\n",
    "for X, y in test_reader.dataIter(1):\n",
    "    yhat = LeNet(X)\n",
    "    yhat = yhat.argmax(axis=1)\n",
    "    metric[int(y)][int(yhat)] += 1\n",
    "# 正确率和平均损失\n",
    "for i in range(10):\n",
    "    print(f'数字{i}的正确率{round(metric[i][i]/sum(metric[i]) * 100, 2)}%', end='\\t')\n",
    "    metric[i][i] = 0\n",
    "    j = metric[i].index(max(metric[i]))\n",
    "    print(f'最大误报数字为{j}, 次数为{metric[i][j]}')\n",
    "    #print(' '.join([f'数字{j}误报次数{metric[i][j]}; ' if (metric[i][j] > 0 and i != j) else '' for j in range(10)]))"
   ]
  },
  {
   "cell_type": "code",
   "execution_count": 7,
   "id": "94497394-0836-45bb-b23d-fcadb6b9f509",
   "metadata": {},
   "outputs": [
    {
     "data": {
      "image/png": "[encoded data removed]",
      "text/plain": [
       "<Figure size 640x480 with 1 Axes>"
      ]
     },
     "metadata": {},
     "output_type": "display_data"
    },
    {
     "name": "stdout",
     "output_type": "stream",
     "text": [
      "tensor([[-0.4414, -0.0992, -0.1789, -0.5684, -0.4363,  4.7140, -0.3041,  0.3730,\n",
      "          0.0330, -0.1021]], device='cuda:0', grad_fn=<AddmmBackward0>)\n",
      "模型预测数字为: 5，正确答案为: 5，"
     ]
    },
    {
     "name": "stdin",
     "output_type": "stream",
     "text": [
      "输入任意值继续:  \n"
     ]
    },
    {
     "data": {
      "image/png": "[encoded data removed]",
      "text/plain": [
       "<Figure size 640x480 with 1 Axes>"
      ]
     },
     "metadata": {},
     "output_type": "display_data"
    },
    {
     "name": "stdout",
     "output_type": "stream",
     "text": [
      "tensor([[ 0.3211,  0.5425, -0.6569,  4.3331, -0.1382, -0.6489,  0.0131, -0.9127,\n",
      "         -0.5628, -0.4869]], device='cuda:0', grad_fn=<AddmmBackward0>)\n",
      "模型预测数字为: 3，正确答案为: 3，"
     ]
    },
    {
     "ename": "KeyboardInterrupt",
     "evalue": "Interrupted by user",
     "output_type": "error",
     "traceback": [
      "\u001b[1;31m---------------------------------------------------------------------------\u001b[0m",
      "\u001b[1;31mKeyboardInterrupt\u001b[0m                         Traceback (most recent call last)",
      "Cell \u001b[1;32mIn[7], line 15\u001b[0m\n\u001b[0;32m     13\u001b[0m predict_num \u001b[38;5;241m=\u001b[39m torch\u001b[38;5;241m.\u001b[39margmax(predict_re)\n\u001b[0;32m     14\u001b[0m \u001b[38;5;28mprint\u001b[39m(\u001b[38;5;124mf\u001b[39m\u001b[38;5;124m'\u001b[39m\u001b[38;5;124m模型预测数字为: \u001b[39m\u001b[38;5;132;01m{\u001b[39;00mpredict_num\u001b[38;5;132;01m}\u001b[39;00m\u001b[38;5;124m，正确答案为: \u001b[39m\u001b[38;5;132;01m{\u001b[39;00m\u001b[38;5;28mint\u001b[39m(label)\u001b[38;5;132;01m}\u001b[39;00m\u001b[38;5;124m，\u001b[39m\u001b[38;5;124m'\u001b[39m, end\u001b[38;5;241m=\u001b[39m\u001b[38;5;124m'\u001b[39m\u001b[38;5;124m'\u001b[39m)\n\u001b[1;32m---> 15\u001b[0m \u001b[38;5;28minput\u001b[39m(\u001b[38;5;124m'\u001b[39m\u001b[38;5;124m输入任意值继续: \u001b[39m\u001b[38;5;124m'\u001b[39m)\n",
      "File \u001b[1;32mD:\\Anaconda\\Lib\\site-packages\\ipykernel\\kernelbase.py:1202\u001b[0m, in \u001b[0;36mKernel.raw_input\u001b[1;34m(self, prompt)\u001b[0m\n\u001b[0;32m   1200\u001b[0m     msg \u001b[38;5;241m=\u001b[39m \u001b[38;5;124m\"\u001b[39m\u001b[38;5;124mraw_input was called, but this frontend does not support input requests.\u001b[39m\u001b[38;5;124m\"\u001b[39m\n\u001b[0;32m   1201\u001b[0m     \u001b[38;5;28;01mraise\u001b[39;00m StdinNotImplementedError(msg)\n\u001b[1;32m-> 1202\u001b[0m \u001b[38;5;28;01mreturn\u001b[39;00m \u001b[38;5;28mself\u001b[39m\u001b[38;5;241m.\u001b[39m_input_request(\n\u001b[0;32m   1203\u001b[0m     \u001b[38;5;28mstr\u001b[39m(prompt),\n\u001b[0;32m   1204\u001b[0m     \u001b[38;5;28mself\u001b[39m\u001b[38;5;241m.\u001b[39m_parent_ident[\u001b[38;5;124m\"\u001b[39m\u001b[38;5;124mshell\u001b[39m\u001b[38;5;124m\"\u001b[39m],\n\u001b[0;32m   1205\u001b[0m     \u001b[38;5;28mself\u001b[39m\u001b[38;5;241m.\u001b[39mget_parent(\u001b[38;5;124m\"\u001b[39m\u001b[38;5;124mshell\u001b[39m\u001b[38;5;124m\"\u001b[39m),\n\u001b[0;32m   1206\u001b[0m     password\u001b[38;5;241m=\u001b[39m\u001b[38;5;28;01mFalse\u001b[39;00m,\n\u001b[0;32m   1207\u001b[0m )\n",
      "File \u001b[1;32mD:\\Anaconda\\Lib\\site-packages\\ipykernel\\kernelbase.py:1245\u001b[0m, in \u001b[0;36mKernel._input_request\u001b[1;34m(self, prompt, ident, parent, password)\u001b[0m\n\u001b[0;32m   1242\u001b[0m \u001b[38;5;28;01mexcept\u001b[39;00m \u001b[38;5;167;01mKeyboardInterrupt\u001b[39;00m:\n\u001b[0;32m   1243\u001b[0m     \u001b[38;5;66;03m# re-raise KeyboardInterrupt, to truncate traceback\u001b[39;00m\n\u001b[0;32m   1244\u001b[0m     msg \u001b[38;5;241m=\u001b[39m \u001b[38;5;124m\"\u001b[39m\u001b[38;5;124mInterrupted by user\u001b[39m\u001b[38;5;124m\"\u001b[39m\n\u001b[1;32m-> 1245\u001b[0m     \u001b[38;5;28;01mraise\u001b[39;00m \u001b[38;5;167;01mKeyboardInterrupt\u001b[39;00m(msg) \u001b[38;5;28;01mfrom\u001b[39;00m \u001b[38;5;28;01mNone\u001b[39;00m\n\u001b[0;32m   1246\u001b[0m \u001b[38;5;28;01mexcept\u001b[39;00m \u001b[38;5;167;01mException\u001b[39;00m:\n\u001b[0;32m   1247\u001b[0m     \u001b[38;5;28mself\u001b[39m\u001b[38;5;241m.\u001b[39mlog\u001b[38;5;241m.\u001b[39mwarning(\u001b[38;5;124m\"\u001b[39m\u001b[38;5;124mInvalid Message:\u001b[39m\u001b[38;5;124m\"\u001b[39m, exc_info\u001b[38;5;241m=\u001b[39m\u001b[38;5;28;01mTrue\u001b[39;00m)\n",
      "\u001b[1;31mKeyboardInterrupt\u001b[0m: Interrupted by user"
     ]
    }
   ],
   "source": [
    "# 展示效果\n",
    "import matplotlib.pyplot as plt\n",
    "from os import system\n",
    "for imdata, label in test_reader.dataIter(1):\n",
    "    system('cls')\n",
    "    predict_re = LeNet(imdata)\n",
    "    imdata = imdata *128 + 128\n",
    "    imdata = imdata.reshape((28, 28))\n",
    "    fig = plt.figure()\n",
    "    plt.imshow(imdata.cpu())\n",
    "    plt.show()\n",
    "    print(predict_re)\n",
    "    predict_num = torch.argmax(predict_re)\n",
    "    print(f'模型预测数字为: {predict_num}，正确答案为: {int(label)}，', end='')\n",
    "    input('输入任意值继续: ')"
   ]
  },
  {
   "cell_type": "code",
   "execution_count": null,
   "id": "8be4809a-c4fd-4eca-892a-bba16f7adcc5",
   "metadata": {},
   "outputs": [],
   "source": []
  }
 ],
 "metadata": {
  "kernelspec": {
   "display_name": "Python 3 (ipykernel)",
   "language": "python",
   "name": "python3"
  },
  "language_info": {
   "codemirror_mode": {
    "name": "ipython",
    "version": 3
   },
   "file_extension": ".py",
   "mimetype": "text/x-python",
   "name": "python",
   "nbconvert_exporter": "python",
   "pygments_lexer": "ipython3",
   "version": "3.11.5"
  },
  "varInspector": {
   "cols": {
    "lenName": 16,
    "lenType": 16,
    "lenVar": 40
   },
   "kernels_config": {
    "python": {
     "delete_cmd_postfix": "",
     "delete_cmd_prefix": "del ",
     "library": "var_list.py",
     "varRefreshCmd": "print(var_dic_list())"
    },
    "r": {
     "delete_cmd_postfix": ") ",
     "delete_cmd_prefix": "rm(",
     "library": "var_list.r",
     "varRefreshCmd": "cat(var_dic_list()) "
    }
   },
   "types_to_exclude": [
    "module",
    "function",
    "builtin_function_or_method",
    "instance",
    "_Feature"
   ],
   "window_display": false
  }
 },
 "nbformat": 4,
 "nbformat_minor": 5
}
